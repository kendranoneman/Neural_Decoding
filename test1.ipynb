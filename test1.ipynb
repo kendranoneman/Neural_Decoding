{
 "cells": [
  {
   "cell_type": "code",
   "execution_count": 22,
   "id": "ce19c836",
   "metadata": {},
   "outputs": [],
   "source": [
    "###Import standard packages###\n",
    "import numpy as np\n",
    "from scipy import io\n",
    "from matplotlib import pyplot as plt\n",
    "import pickle\n",
    "\n",
    "###Import functions for binning data for preprocessing###\n",
    "from Neural_Decoding.preprocessing_funcs import bin_spikes\n",
    "from Neural_Decoding.preprocessing_funcs import bin_output\n",
    "from Neural_Decoding.decoders import LSTMDecoder\n",
    "from Neural_Decoding.preprocessing_funcs import get_spikes_with_history"
   ]
  },
  {
   "cell_type": "code",
   "execution_count": 23,
   "id": "9e0f376c",
   "metadata": {},
   "outputs": [],
   "source": [
    "bins_before=13 #How many bins of neural data prior to the output are used for decoding\n",
    "bins_current=1 #Whether to use concurrent time bin of neural data\n",
    "bins_after=0 #How many bins of neural data after the output are used for decoding"
   ]
  },
  {
   "cell_type": "code",
   "execution_count": 24,
   "id": "23ccc1d6",
   "metadata": {},
   "outputs": [],
   "source": [
    "###Load Data###\n",
    "folder='/Users/kendranoneman/Projects/mayo/Neural_Decoding/example_data/' #ENTER THE FOLDER THAT YOUR DATA IS IN\n",
    "# folder='/Users/jig289/Dropbox/MATLAB/Projects/In_Progress/BMI/Processed_Data/' \n",
    "data=io.loadmat(folder+'s1_data_raw.mat')\n",
    "spike_times=data['spike_times'] #Load spike times of all neurons\n",
    "vels=data['vels'] #Load x and y velocities\n",
    "vel_times=data['vel_times'] #Load times at which velocities were recorded"
   ]
  },
  {
   "cell_type": "code",
   "execution_count": 25,
   "id": "2f79c11e",
   "metadata": {},
   "outputs": [],
   "source": [
    "dt=.05 #Size of time bins (in seconds)\n",
    "t_start=vel_times[0] #Time to start extracting data - here the first time velocity was recorded\n",
    "t_end=vel_times[-1] #Time to finish extracting data - here the last time velocity was recorded\n",
    "downsample_factor=1 #Downsampling of output (to make binning go faster). 1 means no downsampling."
   ]
  },
  {
   "cell_type": "code",
   "execution_count": 26,
   "id": "d3749224",
   "metadata": {},
   "outputs": [],
   "source": [
    "#When loading the Matlab cell \"spike_times\", Python puts it in a format with an extra unnecessary dimension\n",
    "#First, we will put spike_times in a cleaner format: an array of arrays\n",
    "spike_times=np.squeeze(spike_times)\n",
    "for i in range(spike_times.shape[0]):\n",
    "    spike_times[i]=np.squeeze(spike_times[i])"
   ]
  },
  {
   "cell_type": "code",
   "execution_count": 27,
   "id": "4cc9f73d",
   "metadata": {},
   "outputs": [],
   "source": [
    "###Preprocessing to put spikes and output in bins###\n",
    "\n",
    "#Bin neural data using \"bin_spikes\" function\n",
    "neural_data=bin_spikes(spike_times,dt,t_start,t_end)\n",
    "\n",
    "#Bin output (velocity) data using \"bin_output\" function\n",
    "vels_binned=bin_output(vels,vel_times,dt,t_start,t_end,downsample_factor)"
   ]
  },
  {
   "cell_type": "code",
   "execution_count": 28,
   "id": "4029a68b",
   "metadata": {},
   "outputs": [],
   "source": [
    "data_folder='/Users/kendranoneman/Projects/mayo/Neural_Decoding/example_data/' #FOLDER YOU WANT TO SAVE THE DATA TO\n",
    "\n",
    "with open(data_folder+'example_data_s1.pickle','wb') as f:\n",
    "    pickle.dump([neural_data,vels_binned],f)"
   ]
  },
  {
   "cell_type": "code",
   "execution_count": 29,
   "id": "f3e2edaf",
   "metadata": {},
   "outputs": [],
   "source": [
    "# Generate some fake trial data\n",
    "n_trials = 250\n",
    "n_neurons = 10\n",
    "n_bins_per_trial = 50\n",
    "\n",
    "# And generate some fake neural recordings\n",
    "# We'll pretend we have a drift diffusion model\n",
    "\n",
    "def generate_neural_data(n_trials, n_neurons = 25, n_bins_per_trial = 50,\n",
    "                         noise_variance = 1, drift_rate = 0.07,\n",
    "                         mean_rate = 25):\n",
    "  \"\"\"Generates fake neural data of shape (n_trials, n_neurons, n_bins_per_trial\n",
    "        according to a drift diffusion process with given parameters.\n",
    "     Also generates decisions, which is 0 or 1 depending on the \"animal's decision\"\n",
    "        and is returned as an array of shape (n_trials,) \n",
    "        \n",
    "    Returns: (neural_data, decisions)\n",
    "  \"\"\"\n",
    "\n",
    "  decisions = np.random.binomial(1,.5,size = n_trials)\n",
    "  \n",
    "  neural_recordings = np.zeros((n_trials,n_neurons,n_bins_per_trial))\n",
    "\n",
    "  for t in range(n_bins_per_trial):\n",
    "    if t==0:\n",
    "      neural_recordings[:,:,t] = mean_rate + np.random.randn(n_trials,n_neurons) * noise_variance\n",
    "    else:\n",
    "      neural_recordings[:,:,t] = neural_recordings[:,:,t-1] \\\n",
    "                      + np.reshape(drift_rate*(decisions*2-1),(len(decisions),1)) \\\n",
    "                      + np.random.randn(n_trials,n_neurons) * noise_variance\n",
    "      \n",
    "  return neural_recordings, decisions\n",
    "\n",
    "neural_recordings, decisions = generate_neural_data(n_trials, \n",
    "                                         n_neurons, n_bins_per_trial)"
   ]
  },
  {
   "cell_type": "code",
   "execution_count": 30,
   "id": "bb549f6c",
   "metadata": {},
   "outputs": [],
   "source": [
    "# Let's do new electrophysiology and take new data. This cost $2,000,000 in \n",
    "# NIH funding so it better work.\n",
    "new_neural_recordings, new_decisions = generate_neural_data(n_trials, \n",
    "                                             n_neurons, n_bins_per_trial)\n",
    "new_X = np.reshape(new_neural_recordings, (n_trials,-1))\n",
    "\n",
    "\n",
    "# Now you: score the model on this new data"
   ]
  },
  {
   "cell_type": "code",
   "execution_count": 31,
   "id": "0f88f319",
   "metadata": {},
   "outputs": [],
   "source": [
    "# Function to get the covariate matrix that includes spike history from previous bins\n",
    "X=get_spikes_with_history(neural_data,bins_before,bins_after,bins_current)"
   ]
  },
  {
   "cell_type": "code",
   "execution_count": 32,
   "id": "fb4b21a3",
   "metadata": {},
   "outputs": [
    {
     "ename": "NameError",
     "evalue": "name 'X_train' is not defined",
     "output_type": "error",
     "traceback": [
      "\u001b[0;31m---------------------------------------------------------------------------\u001b[0m",
      "\u001b[0;31mNameError\u001b[0m                                 Traceback (most recent call last)",
      "\u001b[0;32m<ipython-input-32-224392cf3d20>\u001b[0m in \u001b[0;36m<module>\u001b[0;34m\u001b[0m\n\u001b[1;32m      3\u001b[0m \u001b[0;34m\u001b[0m\u001b[0m\n\u001b[1;32m      4\u001b[0m \u001b[0;31m#Fit model\u001b[0m\u001b[0;34m\u001b[0m\u001b[0;34m\u001b[0m\u001b[0;34m\u001b[0m\u001b[0m\n\u001b[0;32m----> 5\u001b[0;31m \u001b[0mmodel_lstm\u001b[0m\u001b[0;34m.\u001b[0m\u001b[0mfit\u001b[0m\u001b[0;34m(\u001b[0m\u001b[0mX_train\u001b[0m\u001b[0;34m,\u001b[0m\u001b[0my_train\u001b[0m\u001b[0;34m)\u001b[0m\u001b[0;34m\u001b[0m\u001b[0;34m\u001b[0m\u001b[0m\n\u001b[0m\u001b[1;32m      6\u001b[0m \u001b[0;34m\u001b[0m\u001b[0m\n\u001b[1;32m      7\u001b[0m \u001b[0;31m#Get predictions\u001b[0m\u001b[0;34m\u001b[0m\u001b[0;34m\u001b[0m\u001b[0;34m\u001b[0m\u001b[0m\n",
      "\u001b[0;31mNameError\u001b[0m: name 'X_train' is not defined"
     ]
    }
   ],
   "source": [
    "#Declare model and set parameters of the model\n",
    "model_lstm=LSTMDecoder(units=400,num_epochs=5)\n",
    "\n",
    "#Fit model\n",
    "model_lstm.fit(X_train,y_train)\n",
    "\n",
    "#Get predictions\n",
    "y_test_predicted_lstm=model_lstm.predict(X_test)"
   ]
  },
  {
   "cell_type": "code",
   "execution_count": null,
   "id": "357c4a13",
   "metadata": {},
   "outputs": [],
   "source": []
  }
 ],
 "metadata": {
  "kernelspec": {
   "display_name": "Python 3",
   "language": "python",
   "name": "python3"
  },
  "language_info": {
   "codemirror_mode": {
    "name": "ipython",
    "version": 3
   },
   "file_extension": ".py",
   "mimetype": "text/x-python",
   "name": "python",
   "nbconvert_exporter": "python",
   "pygments_lexer": "ipython3",
   "version": "3.9.5"
  }
 },
 "nbformat": 4,
 "nbformat_minor": 5
}
